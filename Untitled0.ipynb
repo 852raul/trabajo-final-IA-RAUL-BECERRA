{
  "nbformat": 4,
  "nbformat_minor": 0,
  "metadata": {
    "colab": {
      "provenance": [],
      "authorship_tag": "ABX9TyMQ7aZthyBhaNDRCGSWje5j",
      "include_colab_link": true
    },
    "kernelspec": {
      "name": "python3",
      "display_name": "Python 3"
    },
    "language_info": {
      "name": "python"
    }
  },
  "cells": [
    {
      "cell_type": "markdown",
      "metadata": {
        "id": "view-in-github",
        "colab_type": "text"
      },
      "source": [
        "<a href=\"https://colab.research.google.com/github/852raul/trabajo-final-IA-RAUL-BECERRA/blob/main/Untitled0.ipynb\" target=\"_parent\"><img src=\"https://colab.research.google.com/assets/colab-badge.svg\" alt=\"Open In Colab\"/></a>"
      ]
    },
    {
      "cell_type": "markdown",
      "source": [
        "# Trabajo Final: Generación  de una campaña de consientizacion medio ambiental  usando Gemini como generador de texto e imagen."
      ],
      "metadata": {
        "id": "myI6Gv2aLiWd"
      }
    },
    {
      "cell_type": "markdown",
      "source": [
        "# Resumen\n",
        "El objetivo de este proyecto es desarrollar un sistema que genere campañas de consientizacio medioambiental sobre la desdorestaciones en bosques. Utilizaremos la API de gemini para generar una descripción textual y de imagen.\n",
        "\n",
        "\n",
        "1. Introducción\n",
        "\n",
        "\n",
        "   La deforestación masiva de Bosques está causando una pérdida significativa de biodiversidad y contribuyendo al cambio climático.\n",
        "\n",
        "2. Objetivos\n",
        "   -Generar una descripción textual de un los problemas que se detectan en el medio ambiente .\n",
        "  -Convertir la descripción textual en una imagen para retratar la problematica.\n",
        "\n",
        "\n",
        "  3. Metodología\n",
        "     -Recopilación de Datos: Obtener información sobre los estudios llevados acabos  ratificando la problematicas.\n",
        "\n",
        "   -Procesamiento de Texto: Utilizar gemiani para generar una descripción textual para la campaña de concientizacion.\n",
        "\n",
        "   -Generación de Imagen: Utilizar geminai para convertir la descripción en una imagen.\n",
        "\n",
        "\n",
        "4. Herramientas y Tecnologías\n",
        "   -Python\n",
        "   -Geminai\n",
        "\n",
        "\n",
        "5. Entorno de Desarrollo:\n",
        "\n",
        "   Jupyter Notebook para el desarrollo y pruebas.\n",
        "   Bibliotecas: google.generativeai, os.\n",
        "   Técnicas de Fast Prompting:\n",
        "\n",
        "  Crear descripciones específicas para los prompts.\n",
        "  Iterar sobre los prompts para optimizar los resultados. \"\"\"\n"
      ],
      "metadata": {
        "id": "v3MPmeC946wR"
      }
    },
    {
      "cell_type": "code",
      "execution_count": null,
      "metadata": {
        "id": "BCVuEgMyZGJh",
        "colab": {
          "base_uri": "https://localhost:8080/"
        },
        "outputId": "88e43263-86b6-4239-d9d4-b8536a89a0e5"
      },
      "outputs": [
        {
          "output_type": "stream",
          "name": "stdout",
          "text": [
            "Requirement already satisfied: google.generativeai in /usr/local/lib/python3.10/dist-packages (0.8.3)\n",
            "Requirement already satisfied: google-ai-generativelanguage==0.6.10 in /usr/local/lib/python3.10/dist-packages (from google.generativeai) (0.6.10)\n",
            "Requirement already satisfied: google-api-core in /usr/local/lib/python3.10/dist-packages (from google.generativeai) (2.19.2)\n",
            "Requirement already satisfied: google-api-python-client in /usr/local/lib/python3.10/dist-packages (from google.generativeai) (2.151.0)\n",
            "Requirement already satisfied: google-auth>=2.15.0 in /usr/local/lib/python3.10/dist-packages (from google.generativeai) (2.27.0)\n",
            "Requirement already satisfied: protobuf in /usr/local/lib/python3.10/dist-packages (from google.generativeai) (4.25.5)\n",
            "Requirement already satisfied: pydantic in /usr/local/lib/python3.10/dist-packages (from google.generativeai) (2.10.3)\n",
            "Requirement already satisfied: tqdm in /usr/local/lib/python3.10/dist-packages (from google.generativeai) (4.66.6)\n",
            "Requirement already satisfied: typing-extensions in /usr/local/lib/python3.10/dist-packages (from google.generativeai) (4.12.2)\n",
            "Requirement already satisfied: proto-plus<2.0.0dev,>=1.22.3 in /usr/local/lib/python3.10/dist-packages (from google-ai-generativelanguage==0.6.10->google.generativeai) (1.25.0)\n",
            "Requirement already satisfied: googleapis-common-protos<2.0.dev0,>=1.56.2 in /usr/local/lib/python3.10/dist-packages (from google-api-core->google.generativeai) (1.66.0)\n",
            "Requirement already satisfied: requests<3.0.0.dev0,>=2.18.0 in /usr/local/lib/python3.10/dist-packages (from google-api-core->google.generativeai) (2.32.3)\n",
            "Requirement already satisfied: cachetools<6.0,>=2.0.0 in /usr/local/lib/python3.10/dist-packages (from google-auth>=2.15.0->google.generativeai) (5.5.0)\n",
            "Requirement already satisfied: pyasn1-modules>=0.2.1 in /usr/local/lib/python3.10/dist-packages (from google-auth>=2.15.0->google.generativeai) (0.4.1)\n",
            "Requirement already satisfied: rsa<5,>=3.1.4 in /usr/local/lib/python3.10/dist-packages (from google-auth>=2.15.0->google.generativeai) (4.9)\n",
            "Requirement already satisfied: httplib2<1.dev0,>=0.19.0 in /usr/local/lib/python3.10/dist-packages (from google-api-python-client->google.generativeai) (0.22.0)\n",
            "Requirement already satisfied: google-auth-httplib2<1.0.0,>=0.2.0 in /usr/local/lib/python3.10/dist-packages (from google-api-python-client->google.generativeai) (0.2.0)\n",
            "Requirement already satisfied: uritemplate<5,>=3.0.1 in /usr/local/lib/python3.10/dist-packages (from google-api-python-client->google.generativeai) (4.1.1)\n",
            "Requirement already satisfied: annotated-types>=0.6.0 in /usr/local/lib/python3.10/dist-packages (from pydantic->google.generativeai) (0.7.0)\n",
            "Requirement already satisfied: pydantic-core==2.27.1 in /usr/local/lib/python3.10/dist-packages (from pydantic->google.generativeai) (2.27.1)\n",
            "Requirement already satisfied: grpcio<2.0dev,>=1.33.2 in /usr/local/lib/python3.10/dist-packages (from google-api-core[grpc]!=2.0.*,!=2.1.*,!=2.10.*,!=2.2.*,!=2.3.*,!=2.4.*,!=2.5.*,!=2.6.*,!=2.7.*,!=2.8.*,!=2.9.*,<3.0.0dev,>=1.34.1->google-ai-generativelanguage==0.6.10->google.generativeai) (1.68.1)\n",
            "Requirement already satisfied: grpcio-status<2.0.dev0,>=1.33.2 in /usr/local/lib/python3.10/dist-packages (from google-api-core[grpc]!=2.0.*,!=2.1.*,!=2.10.*,!=2.2.*,!=2.3.*,!=2.4.*,!=2.5.*,!=2.6.*,!=2.7.*,!=2.8.*,!=2.9.*,<3.0.0dev,>=1.34.1->google-ai-generativelanguage==0.6.10->google.generativeai) (1.62.3)\n",
            "Requirement already satisfied: pyparsing!=3.0.0,!=3.0.1,!=3.0.2,!=3.0.3,<4,>=2.4.2 in /usr/local/lib/python3.10/dist-packages (from httplib2<1.dev0,>=0.19.0->google-api-python-client->google.generativeai) (3.2.0)\n",
            "Requirement already satisfied: pyasn1<0.7.0,>=0.4.6 in /usr/local/lib/python3.10/dist-packages (from pyasn1-modules>=0.2.1->google-auth>=2.15.0->google.generativeai) (0.6.1)\n",
            "Requirement already satisfied: charset-normalizer<4,>=2 in /usr/local/lib/python3.10/dist-packages (from requests<3.0.0.dev0,>=2.18.0->google-api-core->google.generativeai) (3.4.0)\n",
            "Requirement already satisfied: idna<4,>=2.5 in /usr/local/lib/python3.10/dist-packages (from requests<3.0.0.dev0,>=2.18.0->google-api-core->google.generativeai) (3.10)\n",
            "Requirement already satisfied: urllib3<3,>=1.21.1 in /usr/local/lib/python3.10/dist-packages (from requests<3.0.0.dev0,>=2.18.0->google-api-core->google.generativeai) (2.2.3)\n",
            "Requirement already satisfied: certifi>=2017.4.17 in /usr/local/lib/python3.10/dist-packages (from requests<3.0.0.dev0,>=2.18.0->google-api-core->google.generativeai) (2024.8.30)\n",
            "Requirement already satisfied: Pillow in /usr/local/lib/python3.10/dist-packages (11.0.0)\n"
          ]
        }
      ],
      "source": [
        "\n",
        "\n",
        "!pip install google.generativeai\n",
        "\n",
        "!pip install --upgrade Pillow\n"
      ]
    },
    {
      "cell_type": "markdown",
      "source": [],
      "metadata": {
        "id": "TNqmgVlZLXJr"
      }
    },
    {
      "cell_type": "markdown",
      "source": [],
      "metadata": {
        "id": "xJQGPVPTLezu"
      }
    },
    {
      "cell_type": "code",
      "source": [
        "import google.generativeai as genai\n",
        "import os\n",
        "from google.colab import userdata\n",
        "import Image\n",
        "imagen = Image.generate_image\n",
        "\n",
        "GOOGLE_API_KEY=userdata.get('GOOGLE_API_KEY')\n",
        "genai.configure(api_key=GOOGLE_API_KEY)\n",
        "\n"
      ],
      "metadata": {
        "id": "VTvaYjtvZ_Ao"
      },
      "execution_count": null,
      "outputs": []
    },
    {
      "cell_type": "code",
      "source": [
        "from google.colab import drive\n",
        "drive.mount('/content/drive')"
      ],
      "metadata": {
        "id": "4o2KZgRYqNOn"
      },
      "execution_count": null,
      "outputs": []
    },
    {
      "cell_type": "markdown",
      "source": [
        "# Sección nueva"
      ],
      "metadata": {
        "id": "8i1xB0aMFFEL"
      }
    },
    {
      "cell_type": "code",
      "source": [],
      "metadata": {
        "id": "UW68tVw5_gl_"
      },
      "execution_count": null,
      "outputs": []
    },
    {
      "cell_type": "code",
      "source": [
        "my_api_key = os.getenv(\"ingrese_su_api_key\")\n",
        "\n"
      ],
      "metadata": {
        "id": "ZG24V4bcjQzL"
      },
      "execution_count": null,
      "outputs": []
    },
    {
      "cell_type": "code",
      "source": [
        "genai.configure(api_key=my_api_key)"
      ],
      "metadata": {
        "id": "_WVj5rmajbCM"
      },
      "execution_count": null,
      "outputs": []
    },
    {
      "cell_type": "code",
      "source": [
        "model = genai.GenerativeModel(model_name=\"gemini-1.5-flash\")\n",
        "imagen = genai.ImageGenerationModel(\"imagen-3.0-generate-001\")\n",
        "\n",
        "\n",
        "def gemini_descripcion_imagenes(texto):\n",
        "  \"\"\"\n",
        "  Generar una imagen del texto atraves de geminai\n",
        "  Args:\n",
        "texto: texto a describir(\"string\")\n",
        "Return:\n",
        "Destrcripcion de la imagen (\"string\")\n",
        " \"\"\"\n",
        "  promp = \"Tu objetivo principal es dada un texto generar una descripcion de una imagen que pueda ser introducida como prompt en un modelo texto a imagen. La desripcion debe ser concreta en no mas de 200 palabras y que pueda ser expresada mediante una imagen. El texto es: \"\n",
        "\n",
        "  promp += texto\n",
        "\n",
        "  response = model.generate_content(promp)\n",
        "  return response.text\n",
        "  text= \"Es una empresa dedicada al seguimiento medio hambiental con el control sobre la desforestacion, Generar campañas de concientización sobre el cambio climático utilizando imágenes impactantes. Desarrollar herramientas para monitorear y analizar datos ambientales.\"\n",
        "\n",
        "  descripcion_imagen = gemini_descripcion_imagen(texto)\n",
        "  print(descrpcion_imagen)\n",
        "\n",
        "\n",
        "  result = imagen.generate_images(\n",
        "    prompt=\"Genera un gráfico que muestre la evolución de la temperatura global en los últimos 100 años.\",\n",
        "    number_of_images=4,\n",
        "    safety_filter_level=\"block_only_high\",\n",
        "    person_generation=\"allow_adult\",\n",
        "    aspect_ratio=\"3:4\",\n",
        "    negative_prompt=\"Outside\",\n",
        ")\n",
        "\n",
        "for image in result.images:\n",
        "  print(image)\n",
        "\n",
        "# Open and display the image using your local operating system.\n",
        "for image in result.images:\n",
        "  image._pil_image.show()\n",
        "\n"
      ],
      "metadata": {
        "id": "N5HfEqNakhpK"
      },
      "execution_count": null,
      "outputs": []
    },
    {
      "cell_type": "code",
      "source": [],
      "metadata": {
        "id": "4-BT1-tc7YLf"
      },
      "execution_count": null,
      "outputs": []
    },
    {
      "cell_type": "markdown",
      "source": [
        "# Resultados\n",
        "-Texto a Texto: Los prompts generaron respuestas relevantes y personalizadas.\n",
        "-Texto a Imagen: Las imágenes generadas fueron visualmente atractivas y útiles. \"\"\"\n",
        "\"\"\"\n",
        "\n",
        "# Conclusiones\n",
        "-La implementación de Fast Prompting demuestra su potencial para mejorar el resultado esperado.\n",
        "-Se logró personalizar la interacción y proporcionar resultados visualmente atractivos, cumpliendo con los objetivos planteados.\n",
        "-Las herramientas utilizadas fueron efectivas y permitieron desarrollar una solución práctica y eficiente. \"\"\"\n",
        "\"\"\"\n",
        "\n",
        "# Referencias\n",
        "-Documentación oficial de Google Generative AI: https://developers.generativeai.google.\n",
        "-Artículos sobre Fast Prompting.\n",
        "-Investigación y experimentación en el uso de modelos preentrenados.\n",
        "-Profesore Alejandro Sosa y tutor Hugo mon  de la materia IA: Generacion de Prompts / Carreras Intensivas en Coderhouse \"\"\""
      ],
      "metadata": {
        "id": "IiRHgUyP9SNT"
      }
    }
  ]
}